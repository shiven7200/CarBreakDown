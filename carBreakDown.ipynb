{
 "cells": [
  {
   "cell_type": "code",
   "execution_count": 192,
   "metadata": {},
   "outputs": [],
   "source": [
    "import pandas as pd\n",
    "import warnings\n",
    "warnings.filterwarnings(\"ignore\")\n",
    "\n",
    "dfTest      = pd.read_csv('C:/Users/User/Downloads/car_breakdown_prediction-develop/data/car_breakdown_test.tsv', sep='\\t')\n",
    "dfTestTruth = pd.read_csv('C:/Users/User/Downloads/car_breakdown_prediction-develop/data/car_breakdown_test_truth.tsv', sep='\\t')\n",
    "dfTrain     = pd.read_csv('C:/Users/User/Downloads/car_breakdown_prediction-develop/data/car_breakdown_train.tsv', sep='\\t')"
   ]
  },
  {
   "cell_type": "code",
   "execution_count": 18,
   "metadata": {},
   "outputs": [],
   "source": [
    "# len(dfTest)\n",
    "# len(dfTestTruth)\n",
    "# len(dfTrain)"
   ]
  },
  {
   "cell_type": "markdown",
   "metadata": {},
   "source": [
    "## Assumpitons \n",
    "1. All **100 vehicles** are assumed to be different and has been treated in a individual manner.\n",
    "\n",
    "## Different approaches which can be used for predicting breakdown\n",
    "Out of 21 sensors if we find rolling mean/mean or plot the sensor data, only s2,s3,s4,s7,s8,s9,s11,s12,s13,s14,s15,s17,s20,s21\n",
    "are observed to change with the day while others are either constant or have mininmal deviation.\n",
    "\n",
    "  **Method 1 :** Out of filtered sensors there is either a dip in values or a lift in values, a rolling mean would of 2-4 days would\n",
    "  serve the purpose, for each sensors ~30 days proir the trends starts changing, we can mark the thresholdd values over which the\n",
    "  flag would be raised for each sensor and if majority of the sensors shows the threshold breach we can have a breakdown indicator.\n",
    "  \n",
    "  **Method 2 :** There could be a more robust way for this, what we have tried is fitting an ensemble based boosting algorithm \n",
    "  which can give slightly extra confidence and would also tell the probaility of the failure prediction. I have treated all the\n",
    "  vehicles differently. A **target variable is defined** in a manner where for each vehicle, corresponding to the day, either 0 or 1 \n",
    "  has been marked. Say for example a vehicle lasts 150 days, till 120 days the target variable is 0 and post that its 1, this \n",
    "  number couls have been chamnged (but the requirement was to predict failure around 30 days). Instead of predicting 0 and 1 \n",
    "  we have predicted the probabilty of day's sensor data pattern bieng close to 0 or 1, which would give a better picture of whatever\n",
    "  we are predicting.\n",
    "  \n",
    "  If we assume ground data to be true (which is not satisfactorily true, as even after plotting the raw sensors data over days, in\n",
    "  many cases no trends are observed which points towards the breakdown as observed in train data), about 25 vehicles out of 100 had\n",
    "  RUL around 30, and out of 25 vehicles the model could predict the failure for 20 vehicles with over 0.50 probability, and also 22\n",
    "  vehicles out of 25 at some point showed trend towards breakdown but didnt fail eventually. \n",
    "  \n",
    "  So precision was observed to be ~80%, assuming the ground data is true. False positives was an focused more, as that would impact\n",
    "  business a lot, telling a vehicle wuld fail and blockig it for maintainace would decrease the revenue from thta car.\n",
    "  \n",
    "  **dfAccuTrain** : Contains accuracy observed obe training 100 models over 100 cars.   \n",
    "  **dfAccuTestl** : Contains accuracy over test data with probability threshold of 0.50 and higher, after looking \n",
    "                    at the end days of data\n",
    "  **dfInd**       : contains flag if at any point of time over all the days of test data, if any patterns similar to the breakdown\n",
    "                    vehicle data was observed (36 vehicle showed flag,  28 to be dominant flags and 8 as minor flags)\n",
    "                    \n",
    "  **Method 3** : We can calculate **feature importance scores** based on the sensors and figure out the importance order of the\n",
    "  sensors and assosiate the proportional scores to the sensors, to predict the breakdown of a vehicle.\n",
    "  \n",
    "  **Method 3** : Simple classification model (k-means should work for this king of data) can also be used, **good thing is manual \n",
    "  marking will not be required** for this, we can assume 3 clusters, 1 for a healthy vehicle pattern, other for degrading vehicle\n",
    "  and the 3rd one fot the last stage of breaking down vehicle.\n",
    "  \n",
    "  **Method 4**: If we had large amount of data nueral metwork classifiers could also be used, which could have yielded a higher\n",
    "  acuracy.\n",
    "  \n",
    "  **Method 5 :** A more complex but yet quite reliable would be using HMM's, it would be usefull for this king of data as its a time\n",
    "  series data, and hidden staes could be marked as 3 which is good health, average health and bad health, just that sample points to\n",
    "  train are less than ideal to start with."
   ]
  },
  {
   "cell_type": "code",
   "execution_count": 39,
   "metadata": {},
   "outputs": [],
   "source": [
    "# dfTest[dfTest.vehicleId==3]\n",
    "# dfTest.vehicleId.value_counts()\n",
    "# dfTrain.columns"
   ]
  },
  {
   "cell_type": "code",
   "execution_count": 21,
   "metadata": {},
   "outputs": [],
   "source": [
    "# dfTestTruth.columns"
   ]
  },
  {
   "cell_type": "code",
   "execution_count": 27,
   "metadata": {},
   "outputs": [],
   "source": [
    "# dfTestTruth.vehicleId.nunique()"
   ]
  },
  {
   "cell_type": "code",
   "execution_count": 34,
   "metadata": {},
   "outputs": [],
   "source": [
    "# dfTest[dfTest.vehicleId==1]"
   ]
  },
  {
   "cell_type": "code",
   "execution_count": 40,
   "metadata": {},
   "outputs": [],
   "source": [
    "import matplotlib.pyplot as plt\n",
    "%matplotlib inline"
   ]
  },
  {
   "cell_type": "code",
   "execution_count": 276,
   "metadata": {},
   "outputs": [],
   "source": [
    "# dfTestTruth['lengthOfData']=\n",
    "# dfTest['counter']=1\n",
    "dfTestTruth['counter']=dfTest.groupby('vehicleId').count()['days'].values\n",
    "# dfTestTruth.tail()"
   ]
  },
  {
   "cell_type": "code",
   "execution_count": 473,
   "metadata": {},
   "outputs": [
    {
     "data": {
      "text/plain": [
       "[<matplotlib.lines.Line2D at 0x1f4cf063be0>]"
      ]
     },
     "execution_count": 473,
     "metadata": {},
     "output_type": "execute_result"
    },
    {
     "data": {
      "image/png": "[encoded data removed]",
      "text/plain": [
       "<Figure size 432x288 with 1 Axes>"
      ]
     },
     "metadata": {
      "needs_background": "light"
     },
     "output_type": "display_data"
    }
   ],
   "source": [
    "plt.plot(dfTrain.s20[dfTrain.vehicleId==98])\n",
    "# plt.plot(dfTest.s20[dfTest.vehicleId==98])"
   ]
  },
  {
   "cell_type": "code",
   "execution_count": null,
   "metadata": {},
   "outputs": [],
   "source": [
    "s2,s3,s4,s7,s8, s9 ,s11,s12,s13, s14 ,s15,s17,s20,s21"
   ]
  },
  {
   "cell_type": "code",
   "execution_count": 144,
   "metadata": {},
   "outputs": [],
   "source": [
    "# dfTrain.groupby('vehicleId')['s2','s3','s4','s7','s8','s11','s12','s13','s15','s17','s20','s21'].mean()\n",
    "# dfTrain.groupby('vehicleId')['s2','s3','s4','s7','s8','s11','s12','s13','s15','s17','s20','s21'].std()"
   ]
  },
  {
   "cell_type": "code",
   "execution_count": 152,
   "metadata": {},
   "outputs": [],
   "source": [
    "# dfTrain['s2ma'] = dfTrain['s2'].rolling(5).mean()\n",
    "# plt.plot(dfTrain.s2[dfTrain.vehicleId==1])"
   ]
  },
  {
   "cell_type": "code",
   "execution_count": 449,
   "metadata": {},
   "outputs": [],
   "source": [
    "accu=[]\n",
    "testDayf=[]\n",
    "testDayl=[]\n",
    "testOverall=[]\n",
    "for j in range(1,101,1):\n",
    "    dfTemp = dfTrain[dfTrain.vehicleId==j]\n",
    "    dfTemp = dfTemp.reset_index()\n",
    "    a = len(dfTemp)\n",
    "    target=[]\n",
    "    for k in range(0,a,1):\n",
    "        if(dfTemp.days[k]<(a-30)):\n",
    "            x=0\n",
    "    #         x=100\n",
    "        else:\n",
    "            x=1\n",
    "    #         x=100-3.37*(k-(a-30))\n",
    "        target.append(x)\n",
    "    dfTemp['target']=target  \n",
    "    import numpy as np\n",
    "    from sklearn.model_selection import train_test_split\n",
    "    trainFeatures = ['s2','s3','s4','s7','s8','s11','s12','s13','s15','s17','s20','s21']\n",
    "\n",
    "    import xgboost as xgb\n",
    "    xDf = dfTemp.filter(trainFeatures,axis=1)\n",
    "    yDf = dfTemp.filter(['target'])\n",
    "\n",
    "    X = xDf.filter(trainFeatures,axis=1).values\n",
    "    Y = yDf.values\n",
    "\n",
    "    X_train, X_test, y_train, y_test = train_test_split(X, Y, test_size=0.30, random_state=210)\n",
    "\n",
    "    dtrain = xgb.DMatrix(X_train, label=y_train)\n",
    "    dtest  = xgb.DMatrix(X_test,  label=y_test)\n",
    "\n",
    "    param = {\n",
    "        'max_depth': 5,  # the maximum depth of each tree\n",
    "        'eta': 0.1,  # the training step for each iteration\n",
    "        'silent': 1,  # logging mode - quiet\n",
    "        'objective' : 'multi:softprob',\n",
    "         'num_class' : 2,\n",
    "        'colsample_bytree': 1,\n",
    "        'subsample':1}  # the number of classes that exist in this datset\n",
    "    num_round =400  # the number of training iterations\n",
    "    model = xgb.train(param, dtrain, num_round)\n",
    "\n",
    "    from sklearn.metrics import confusion_matrix\n",
    "    pred = model.predict(dtest)\n",
    "    bestPred = np.asarray([np.argmax(line) for line in pred])\n",
    "    # df_confusion = confusion_matrix(bestPred,y_test)\n",
    "    # dfConfusion = pd.DataFrame(df_confusion)\n",
    "    # dfConfusion\n",
    "\n",
    "    dftest = pd.DataFrame(X_test,columns=trainFeatures)\n",
    "    # dftest = X_test\n",
    "    dftest['actual']= y_test\n",
    "    dftest['catg0'] = pred[:,0]\n",
    "    dftest['catg1'] = pred[:,1]\n",
    "    dftest['best'] = bestPred\n",
    "    dftest['count'] = 1\n",
    "    p=[]\n",
    "    for l in range(0,len(dftest),1):\n",
    "        if(dftest['catg1'][l]>0.70):\n",
    "    #         print(dftest.catg0[l])\n",
    "            w=1\n",
    "        else:\n",
    "            w=0\n",
    "        p.append(w)\n",
    "\n",
    "    dftest['pbVal>0.70']=p\n",
    "    df_confusion = confusion_matrix(dftest['pbVal>0.70'],dftest['actual'])\n",
    "#     dfConfusion = pd.DataFrame(df_confusion)\n",
    "#     dfConfusion\n",
    "#     falseNegitives = df_confusion[0,1]*100/(df_confusion[0,0]+df_confusion[0,1])\n",
    "#     falsePositives = df_confusion[1,0]*100/(df_confusion[0,0]+df_confusion[1,0])\n",
    "    recall = df_confusion[1,0]*100/(df_confusion[1,0]+df_confusion[0,0])\n",
    "    precision = df_confusion[1,1]*100/(df_confusion[0,1]+df_confusion[1,1])\n",
    "    accuracy = [j,precision,recall]\n",
    "    accu.append(accuracy)\n",
    "#----------------------------------------------------------------------------------------------------------------------------------    \n",
    "    dfTempTest = dfTest[dfTest.vehicleId==j]\n",
    "    \n",
    "    dff = dfTempTest.drop_duplicates(subset='vehicleId',keep='first')\n",
    "    xDff = dff.filter(trainFeatures,axis=1)\n",
    "    xValf = xDff.values\n",
    "    Xf = xValf\n",
    "    dtf = xgb.DMatrix(Xf)\n",
    "    \n",
    "    dfl = dfTempTest.drop_duplicates(subset='vehicleId',keep='last')\n",
    "    xDfl = dfl.filter(trainFeatures,axis=1)\n",
    "    xVall = xDfl.values\n",
    "    Xl = xVall\n",
    "    dtl = xgb.DMatrix(Xl)\n",
    "    \n",
    "    predTestf  = model.predict(dtf)\n",
    "    predTestl  = model.predict(dtl)\n",
    "    \n",
    "    bestPredTestf = np.asarray([np.argmax(line) for line in predTestf])\n",
    "    testPredictionf = [j,predTestf[:,1],bestPredTestf]\n",
    "    \n",
    "    bestPredTestl = np.asarray([np.argmax(line) for line in predTestl])\n",
    "    testPredictionl = [j,predTestl[:,1],bestPredTestl]\n",
    "    \n",
    "    testDayf.append(testPredictionf)\n",
    "    testDayl.append(testPredictionl)\n",
    "    \n",
    "    xDfO = dfTempTest.filter(trainFeatures,axis=1)\n",
    "    xValO = xDfO.values\n",
    "    XO = xValO\n",
    "    dtO = xgb.DMatrix(XO)\n",
    "    predTestO  = model.predict(dtO)\n",
    "    bestPredTestO = np.asarray([np.argmax(line) for line in predTestO])\n",
    "    ans = check_availability(1, bestPredTestO)\n",
    "    overallPred = [j,ans]\n",
    "    testOverall.append(overallPred)\n",
    "    \n",
    "#--------------------------------------------------------------------------------------------------------------------------------\n",
    "    \n",
    "dfAccuTrain  = pd.DataFrame(accu,columns=['vehicleId','precision','recall'])\n",
    "dfAccuTestf  = pd.DataFrame(testDayf,columns=['vehicleId','breakdownProbf','bestPredTestf'])\n",
    "dfAccuTestl  = pd.DataFrame(testDayl,columns=['vehicleId','breakdownProbl','bestPredTestl'])\n",
    "dfInd        = pd.DataFrame(testOverall,columns=['vehicleId','breakdownFlag'])"
   ]
  },
  {
   "cell_type": "code",
   "execution_count": 456,
   "metadata": {},
   "outputs": [],
   "source": [
    "l3=dfInd.vehicleId[dfInd.breakdownFlag==True].values"
   ]
  },
  {
   "cell_type": "code",
   "execution_count": 387,
   "metadata": {},
   "outputs": [],
   "source": [
    "# dfAccuTest.head()\n",
    "# dfAccuTestf[dfAccuTestf.bestPredTestf==1]\n",
    "# dfAccuTestl.head()"
   ]
  },
  {
   "cell_type": "code",
   "execution_count": 405,
   "metadata": {},
   "outputs": [],
   "source": [
    "# dfAccuTestf['breakdownProbf'] = dfAccuTestf['breakdownProbf'].str.get(0)\n",
    "# dfAccuTestf['bestPredTestf']  = dfAccuTestf['bestPredTestf'].str.get(0)\n",
    "\n",
    "# dfAccuTestl['breakdownProbl'] = dfAccuTestl['breakdownProbl'].str.get(0)\n",
    "# dfAccuTestl['bestPredTestl']  = dfAccuTestl['bestPredTestl'].str.get(0)"
   ]
  },
  {
   "cell_type": "code",
   "execution_count": 479,
   "metadata": {},
   "outputs": [],
   "source": [
    "l2 =dfAccuTestl.vehicleId[dfAccuTestl.bestPredTestl==1].values\n",
    "# plt.hist(dfAccuTestl.breakdownProbl)"
   ]
  },
  {
   "cell_type": "code",
   "execution_count": 420,
   "metadata": {},
   "outputs": [],
   "source": [
    "# dfTestTruth['30diff'] = dfTestTruth.RUL-dfTestTruth.counter\n",
    "# dfTestTruth.head()"
   ]
  },
  {
   "cell_type": "code",
   "execution_count": 480,
   "metadata": {},
   "outputs": [],
   "source": [
    "# plt.hist(dfTestTruth.RUL)\n",
    "l1 = dfTestTruth.vehicleId[dfTestTruth.RUL<30].values\n",
    "# dfTestTruth.vehicleId[(dfTestTruth['30diff']>25) & (dfTestTruth['30diff']<35)].values"
   ]
  },
  {
   "cell_type": "code",
   "execution_count": 481,
   "metadata": {},
   "outputs": [],
   "source": [
    "common = [i for i in l1 if i in l2]"
   ]
  },
  {
   "cell_type": "code",
   "execution_count": 482,
   "metadata": {},
   "outputs": [
    {
     "data": {
      "text/plain": [
       "20"
      ]
     },
     "execution_count": 482,
     "metadata": {},
     "output_type": "execute_result"
    }
   ],
   "source": [
    "len(common)"
   ]
  },
  {
   "cell_type": "code",
   "execution_count": 460,
   "metadata": {},
   "outputs": [],
   "source": [
    "def check_availability(element, collection: iter):\n",
    "    return element in collection"
   ]
  },
  {
   "cell_type": "code",
   "execution_count": 483,
   "metadata": {},
   "outputs": [
    {
     "data": {
      "text/plain": [
       "80.0"
      ]
     },
     "execution_count": 483,
     "metadata": {},
     "output_type": "execute_result"
    }
   ],
   "source": [
    "precision = len(common)*100/len(l1)\n",
    "precision"
   ]
  },
  {
   "cell_type": "code",
   "execution_count": null,
   "metadata": {},
   "outputs": [],
   "source": []
  }
 ],
 "metadata": {
  "kernelspec": {
   "display_name": "Python 3",
   "language": "python",
   "name": "python3"
  },
  "language_info": {
   "codemirror_mode": {
    "name": "ipython",
    "version": 3
   },
   "file_extension": ".py",
   "mimetype": "text/x-python",
   "name": "python",
   "nbconvert_exporter": "python",
   "pygments_lexer": "ipython3",
   "version": "3.6.8"
  }
 },
 "nbformat": 4,
 "nbformat_minor": 2
}
